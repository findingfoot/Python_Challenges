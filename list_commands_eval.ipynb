{
  "nbformat": 4,
  "nbformat_minor": 0,
  "metadata": {
    "colab": {
      "name": "list_commands_eval.ipynb",
      "version": "0.3.2",
      "provenance": [],
      "include_colab_link": true
    },
    "kernelspec": {
      "name": "python3",
      "display_name": "Python 3"
    }
  },
  "cells": [
    {
      "cell_type": "markdown",
      "metadata": {
        "id": "view-in-github",
        "colab_type": "text"
      },
      "source": [
        "<a href=\"https://colab.research.google.com/github/findingfoot/Python_Challenges/blob/master/list_commands_eval.ipynb\" target=\"_parent\"><img src=\"https://colab.research.google.com/assets/colab-badge.svg\" alt=\"Open In Colab\"/></a>"
      ]
    },
    {
      "metadata": {
        "id": "8o_sdGSrf7rk",
        "colab_type": "text"
      },
      "cell_type": "markdown",
      "source": [
        "Problem:\n",
        "\n",
        "Consider a list (list = []). You can perform the following commands:\n",
        "\n",
        "insert i e: Insert integer  at position .\n",
        "\n",
        "print: Print the list.\n",
        "\n",
        "remove e: Delete the first occurrence of integer .\n",
        "\n",
        "append e: Insert integer  at the end of the list.\n",
        "\n",
        "sort: Sort the list.\n",
        "\n",
        "pop: Pop the last element from the list.\n",
        "\n",
        "reverse: Reverse the list.\n",
        "\n",
        "\n",
        "Initialize your list and read in the value of  followed by  lines of commands where each command will be of the  types listed above. Iterate through each command in order and perform the corresponding operation on your list.\n",
        "\n",
        "Input Format\n",
        "\n",
        "The first line contains an integer, , denoting the number of commands. \n",
        "Each line  of the  subsequent lines contains one of the commands described above.\n",
        "\n",
        "Constraints\n",
        "\n",
        "The elements added to the list must be integers.\n",
        "Output Format\n",
        "\n",
        "For each command of type print, print the list on a new line.\n",
        "\n",
        "Sample Input 0\n",
        "\n",
        "12\n",
        "insert 0 5\n",
        "insert 1 10\n",
        "insert 0 6\n",
        "print\n",
        "remove 6\n",
        "append 9\n",
        "append 1\n",
        "sort\n",
        "print\n",
        "pop\n",
        "reverse\n",
        "print\n",
        "Sample Output 0\n",
        "\n",
        "[6, 5, 10]\n",
        "[1, 5, 9, 10]\n",
        "[9, 5, 1]\n",
        "Python 3\n"
      ]
    },
    {
      "metadata": {
        "id": "mA1NssXkf4S3",
        "colab_type": "code",
        "colab": {}
      },
      "cell_type": "code",
      "source": [
        "if __name__ == '__main__':\n",
        "    N = int(input())\n",
        "    result = []\n",
        "    for i in range(N):\n",
        "        x = input().split()\n",
        "        com = x[0]\n",
        "        argu = x[1:]\n",
        "        if com != 'print':\n",
        "            com+='('+','.join(argu)+')'\n",
        "            eval('result.'+com)\n",
        "        else:\n",
        "            print(result)"
      ],
      "execution_count": 0,
      "outputs": []
    }
  ]
}