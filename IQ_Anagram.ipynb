{
  "nbformat": 4,
  "nbformat_minor": 0,
  "metadata": {
    "colab": {
      "name": "Anagram.ipynb",
      "version": "0.3.2",
      "provenance": [],
      "include_colab_link": true
    },
    "kernelspec": {
      "name": "python3",
      "display_name": "Python 3"
    }
  },
  "cells": [
    {
      "cell_type": "markdown",
      "metadata": {
        "id": "view-in-github",
        "colab_type": "text"
      },
      "source": [
        "<a href=\"https://colab.research.google.com/github/findingfoot/Python_Challenges/blob/master/IQ_Anagram.ipynb\" target=\"_parent\"><img src=\"https://colab.research.google.com/assets/colab-badge.svg\" alt=\"Open In Colab\"/></a>"
      ]
    },
    {
      "metadata": {
        "id": "ZYbtHtjiEm-k",
        "colab_type": "code",
        "colab": {
          "base_uri": "https://localhost:8080/",
          "height": 55
        },
        "outputId": "fde792ae-56c4-4e99-fdc0-ba61bd786ccb"
      },
      "cell_type": "code",
      "source": [
        "'''\n",
        "Alice is taking a cryptography class and finding anagrams to be very useful. We consider two strings to be anagrams of each other if the first string's letters can be rearranged to form the second string. In other words, both strings must contain the same exact letters in the same exact frequency For example, bacdc and dcbac are anagrams, but bacdc and dcbad are not.\n",
        "\n",
        "Alice decides on an encryption scheme involving two large strings where encryption is dependent on the minimum number of character deletions required to make the two strings anagrams. Can you help her find this number?\n",
        "\n",
        "Given two strings,  and , that may or may not be of the same length, determine the minimum number of character deletions required to make  and  anagrams. Any characters can be deleted from either of the strings.\n",
        "\n",
        "For example, if  and , we can delete  from string  and  from string  so that both remaining strings are and  which are anagrams.\n",
        "\n",
        "Function Description\n",
        "\n",
        "Complete the makeAnagram function in the editor below. It must return an integer representing the minimum total characters that must be deleted to make the strings anagrams.\n",
        "\n",
        "makeAnagram has the following parameter(s):\n",
        "\n",
        "a: a string\n",
        "b: a string\n",
        "Input Format\n",
        "\n",
        "The first line contains a single string, . \n",
        "The second line contains a single string, .\n",
        "\n",
        "Constraints\n",
        "\n",
        "The strings  and  consist of lowercase English alphabetic letters ascii[a-z].\n",
        "Output Format\n",
        "\n",
        "Print a single integer denoting the number of characters you must delete to make the two strings anagrams of each other.\n",
        "\n",
        "Sample Input\n",
        "\n",
        "cde\n",
        "abc\n",
        "Sample Output\n",
        "\n",
        "4\n",
        "Explanation\n",
        "\n",
        "We delete the following characters from our two strings to turn them into anagrams of each other:\n",
        "\n",
        "Remove d and e from cde to get c.\n",
        "Remove a and b from abc to get c.\n",
        "We must delete  characters to make both strings anagrams, so we print  on a new line.\n",
        "\n",
        "'''"
      ],
      "execution_count": 1,
      "outputs": [
        {
          "output_type": "execute_result",
          "data": {
            "text/plain": [
              "\"\\nAlice is taking a cryptography class and finding anagrams to be very useful. We consider two strings to be anagrams of each other if the first string's letters can be rearranged to form the second string. In other words, both strings must contain the same exact letters in the same exact frequency For example, bacdc and dcbac are anagrams, but bacdc and dcbad are not.\\n\\nAlice decides on an encryption scheme involving two large strings where encryption is dependent on the minimum number of character deletions required to make the two strings anagrams. Can you help her find this number?\\n\\nGiven two strings,  and , that may or may not be of the same length, determine the minimum number of character deletions required to make  and  anagrams. Any characters can be deleted from either of the strings.\\n\\nFor example, if  and , we can delete  from string  and  from string  so that both remaining strings are and  which are anagrams.\\n\\nFunction Description\\n\\nComplete the makeAnagram function in the editor below. It must return an integer representing the minimum total characters that must be deleted to make the strings anagrams.\\n\\nmakeAnagram has the following parameter(s):\\n\\na: a string\\nb: a string\\nInput Format\\n\\nThe first line contains a single string, . \\nThe second line contains a single string, .\\n\\nConstraints\\n\\nThe strings  and  consist of lowercase English alphabetic letters ascii[a-z].\\nOutput Format\\n\\nPrint a single integer denoting the number of characters you must delete to make the two strings anagrams of each other.\\n\\nSample Input\\n\\ncde\\nabc\\nSample Output\\n\\n4\\nExplanation\\n\\nWe delete the following characters from our two strings to turn them into anagrams of each other:\\n\\nRemove d and e from cde to get c.\\nRemove a and b from abc to get c.\\nWe must delete  characters to make both strings anagrams, so we print  on a new line.\\n\\n\""
            ]
          },
          "metadata": {
            "tags": []
          },
          "execution_count": 1
        }
      ]
    },
    {
      "metadata": {
        "id": "6Ovugk6XEv4E",
        "colab_type": "code",
        "colab": {
          "base_uri": "https://localhost:8080/",
          "height": 72
        },
        "outputId": "2fcf5db9-79e3-4ce2-8396-6ff1ed9321bb"
      },
      "cell_type": "code",
      "source": [
        "#!/bin/python3\n",
        "\n",
        "import math\n",
        "import os\n",
        "import random\n",
        "import re\n",
        "import sys\n",
        "\n",
        "# Complete the makeAnagram function below.\n",
        "def makeAnagram(a, b):\n",
        "    a,b = list(a), list(b)\n",
        "    comparator_list = list(a)\n",
        "    for i in comparator_list:\n",
        "        if i in b:\n",
        "            a.remove(i)\n",
        "            b.remove(i)\n",
        "    return len(a)+len(b)\n",
        "\n",
        "     \n",
        "    \n",
        "\n",
        "if __name__ == '__main__':\n",
        "    \n",
        "\n",
        "    a = input()\n",
        "\n",
        "    b = input()\n",
        "\n",
        "    res = makeAnagram(a, b)\n",
        "    print(res)\n",
        "\n",
        "    "
      ],
      "execution_count": 4,
      "outputs": [
        {
          "output_type": "stream",
          "text": [
            "abc\n",
            "cdw\n",
            "4\n"
          ],
          "name": "stdout"
        }
      ]
    },
    {
      "metadata": {
        "id": "412QxyG-EyjS",
        "colab_type": "code",
        "colab": {}
      },
      "cell_type": "code",
      "source": [
        ""
      ],
      "execution_count": 0,
      "outputs": []
    }
  ]
}